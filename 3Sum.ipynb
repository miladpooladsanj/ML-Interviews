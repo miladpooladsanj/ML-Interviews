{
 "cells": [
  {
   "cell_type": "markdown",
   "id": "2e657ef6",
   "metadata": {},
   "source": [
    "# Problem Description\n",
    "https://leetcode.com/problems/3sum/"
   ]
  },
  {
   "cell_type": "markdown",
   "id": "8333d8c4",
   "metadata": {},
   "source": [
    "# Solution"
   ]
  },
  {
   "cell_type": "code",
   "execution_count": 2,
   "id": "5b8fb394",
   "metadata": {},
   "outputs": [],
   "source": [
    "class Solution:\n",
    "    def threeSum(self, nums):\n",
    "        nums.sort()\n",
    "        output = []\n",
    "        for i in range(len(nums)):\n",
    "            if nums[i] > 0:\n",
    "                break\n",
    "            if i == 0 or nums[i] != nums[i - 1]:\n",
    "                self.two_sum(nums, i, output)\n",
    "\n",
    "        return output\n",
    "    \n",
    "    def two_sum(self, nums, i, output):\n",
    "        left, right = i + 1, len(nums) - 1\n",
    "        while left < right:\n",
    "            if nums[i] + nums[left] + nums[right] < 0:\n",
    "                left += 1\n",
    "            elif nums[i] + nums[left] + nums[right] > 0:\n",
    "                right -= 1\n",
    "            else:\n",
    "                output.append([nums[i], nums[left], nums[right]])\n",
    "                left += 1\n",
    "                right -= 1\n",
    "                while left < right and nums[left] == nums[left - 1]:\n",
    "                    left += 1"
   ]
  },
  {
   "cell_type": "code",
   "execution_count": 3,
   "id": "20ff8624",
   "metadata": {},
   "outputs": [
    {
     "data": {
      "text/plain": [
       "[[-1, -1, 2], [-1, 0, 1]]"
      ]
     },
     "execution_count": 3,
     "metadata": {},
     "output_type": "execute_result"
    }
   ],
   "source": [
    "input1 = [-1,0,1,2,-1,-4]\n",
    "output1 = Solution()\n",
    "output1.threeSum(input1)\n"
   ]
  },
  {
   "cell_type": "code",
   "execution_count": 4,
   "id": "ce7ee2e8",
   "metadata": {},
   "outputs": [
    {
     "data": {
      "text/plain": [
       "[]"
      ]
     },
     "execution_count": 4,
     "metadata": {},
     "output_type": "execute_result"
    }
   ],
   "source": [
    "input2 = [0,1,1]\n",
    "output2 = Solution()\n",
    "output2.threeSum(input2)"
   ]
  },
  {
   "cell_type": "code",
   "execution_count": null,
   "id": "2beb2b8b",
   "metadata": {},
   "outputs": [],
   "source": []
  }
 ],
 "metadata": {
  "kernelspec": {
   "display_name": "Python 3 (ipykernel)",
   "language": "python",
   "name": "python3"
  },
  "language_info": {
   "codemirror_mode": {
    "name": "ipython",
    "version": 3
   },
   "file_extension": ".py",
   "mimetype": "text/x-python",
   "name": "python",
   "nbconvert_exporter": "python",
   "pygments_lexer": "ipython3",
   "version": "3.11.5"
  }
 },
 "nbformat": 4,
 "nbformat_minor": 5
}
