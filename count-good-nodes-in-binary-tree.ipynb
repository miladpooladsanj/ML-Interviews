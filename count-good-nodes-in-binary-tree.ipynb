{
 "cells": [
  {
   "cell_type": "markdown",
   "id": "6b10ef55",
   "metadata": {},
   "source": [
    "# Problem Description\n",
    "https://leetcode.com/problems/count-good-nodes-in-binary-tree/description/?envType=study-plan-v2&envId=leetcode-75"
   ]
  },
  {
   "cell_type": "markdown",
   "id": "42aac31f",
   "metadata": {},
   "source": [
    "# Solution"
   ]
  },
  {
   "cell_type": "code",
   "execution_count": null,
   "id": "052f157b",
   "metadata": {},
   "outputs": [],
   "source": [
    "# Definition for a binary tree node.\n",
    "# class TreeNode:\n",
    "#     def __init__(self, val=0, left=None, right=None):\n",
    "#         self.val = val\n",
    "#         self.left = left\n",
    "#         self.right = right\n",
    "class Solution:\n",
    "    def goodNodes(self, root: TreeNode) -> int:\n",
    "        def dfs(node, greatest):\n",
    "            nonlocal output\n",
    "            if node is None:\n",
    "                return\n",
    "            if node.val >= greatest:\n",
    "                output += 1\n",
    "                dfs(node.left, max(node.val, greatest))\n",
    "                dfs(node.right, max(node.val, greatest)) \n",
    "            else:\n",
    "                dfs(node.left, greatest)\n",
    "                dfs(node.right, greatest)\n",
    "            return\n",
    "        output = 0\n",
    "        dfs(root, -math.inf)\n",
    "        return output"
   ]
  }
 ],
 "metadata": {
  "kernelspec": {
   "display_name": "Python 3 (ipykernel)",
   "language": "python",
   "name": "python3"
  },
  "language_info": {
   "codemirror_mode": {
    "name": "ipython",
    "version": 3
   },
   "file_extension": ".py",
   "mimetype": "text/x-python",
   "name": "python",
   "nbconvert_exporter": "python",
   "pygments_lexer": "ipython3",
   "version": "3.11.5"
  }
 },
 "nbformat": 4,
 "nbformat_minor": 5
}
