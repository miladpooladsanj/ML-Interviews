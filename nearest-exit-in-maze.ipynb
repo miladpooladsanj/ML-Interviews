{
 "cells": [
  {
   "cell_type": "markdown",
   "id": "e3c8b413",
   "metadata": {},
   "source": [
    "# Problem Description\n",
    "https://leetcode.com/problems/nearest-exit-from-entrance-in-maze/?envType=study-plan-v2&envId=leetcode-75"
   ]
  },
  {
   "cell_type": "markdown",
   "id": "2099fc36",
   "metadata": {},
   "source": [
    "# Solution\n",
    "The solution is a nice application of BFS."
   ]
  },
  {
   "cell_type": "code",
   "execution_count": 2,
   "id": "74be5494",
   "metadata": {},
   "outputs": [],
   "source": [
    "import collections\n",
    "class Solution:\n",
    "    def nearestExit(self, maze, entrance) -> int:\n",
    "        m, n = len(maze), len(maze[0])\n",
    "        dirs = [(-1, 0), (1, 0), (0, -1), (0, 1)]\n",
    "        queue = collections.deque([(entrance[0], entrance[1], 0)])\n",
    "        while queue:\n",
    "            i, j, steps = queue.popleft()\n",
    "            for di, dj in dirs:\n",
    "                ni, nj = i + di, j + dj\n",
    "                if 0 <= ni < m and 0 <= nj < n and maze[ni][nj] == '.':\n",
    "                    if (ni != entrance[0] or nj != entrance[1]) and (ni == 0 or ni == m - 1 or nj == 0 or nj == n - 1):\n",
    "                        return steps + 1\n",
    "                    maze[ni][nj] = '+'\n",
    "                    queue.append((ni, nj, steps + 1))\n",
    "        return -1"
   ]
  },
  {
   "cell_type": "code",
   "execution_count": 4,
   "id": "112b9453",
   "metadata": {},
   "outputs": [
    {
     "data": {
      "text/plain": [
       "1"
      ]
     },
     "execution_count": 4,
     "metadata": {},
     "output_type": "execute_result"
    }
   ],
   "source": [
    "maze = [[\"+\",\"+\",\".\",\"+\"],[\".\",\".\",\".\",\"+\"],[\"+\",\"+\",\"+\",\".\"]]\n",
    "entrance = [1,2]\n",
    "output = Solution()\n",
    "output.nearestExit(maze, entrance)"
   ]
  },
  {
   "cell_type": "code",
   "execution_count": null,
   "id": "d357362c",
   "metadata": {},
   "outputs": [],
   "source": []
  }
 ],
 "metadata": {
  "kernelspec": {
   "display_name": "Python 3 (ipykernel)",
   "language": "python",
   "name": "python3"
  },
  "language_info": {
   "codemirror_mode": {
    "name": "ipython",
    "version": 3
   },
   "file_extension": ".py",
   "mimetype": "text/x-python",
   "name": "python",
   "nbconvert_exporter": "python",
   "pygments_lexer": "ipython3",
   "version": "3.11.5"
  }
 },
 "nbformat": 4,
 "nbformat_minor": 5
}
