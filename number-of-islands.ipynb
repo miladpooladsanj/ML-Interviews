{
 "cells": [
  {
   "cell_type": "markdown",
   "id": "153e11c0",
   "metadata": {},
   "source": [
    "# Problem Description\n",
    "https://leetcode.com/problems/number-of-islands/description/"
   ]
  },
  {
   "cell_type": "markdown",
   "id": "a7ba9cc3",
   "metadata": {},
   "source": [
    "# Solution"
   ]
  },
  {
   "cell_type": "code",
   "execution_count": 4,
   "id": "1fab1738",
   "metadata": {},
   "outputs": [],
   "source": [
    "class Solution:\n",
    "    def numIslands(self, grid) -> int:\n",
    "        count = 0\n",
    "        m = len(grid)\n",
    "        n = len(grid[0])\n",
    "        def backtrack(i, j):\n",
    "            if i < 0 or i >= m or j < 0 or j >= n or visited[i][j]:\n",
    "                return\n",
    "            if grid[i][j] == \"0\":\n",
    "                visited[i][j] = 1\n",
    "                return\n",
    "            grid[i][j] = \"0\"\n",
    "            visited[i][j] = 1\n",
    "            backtrack(i - 1, j)\n",
    "            backtrack(i, j - 1)\n",
    "            backtrack(i + 1, j)\n",
    "            backtrack(i, j + 1)\n",
    "            return\n",
    "        \n",
    "        visited = [[0] * n for _ in range(m)]\n",
    "        for i in range(m):\n",
    "            for j in range(n):\n",
    "                if grid[i][j] == \"1\":\n",
    "                    count += 1\n",
    "                    backtrack(i, j)\n",
    "\n",
    "        return count"
   ]
  },
  {
   "cell_type": "code",
   "execution_count": 5,
   "id": "8b45bae4",
   "metadata": {},
   "outputs": [
    {
     "data": {
      "text/plain": [
       "1"
      ]
     },
     "execution_count": 5,
     "metadata": {},
     "output_type": "execute_result"
    }
   ],
   "source": [
    "input1 = [[\"1\",\"1\",\"1\",\"1\",\"0\"],[\"1\",\"1\",\"0\",\"1\",\"0\"],[\"1\",\"1\",\"0\",\"0\",\"0\"],[\"0\",\"0\",\"0\",\"0\",\"0\"]]\n",
    "sol1 = Solution()\n",
    "sol1.numIslands(input1)"
   ]
  },
  {
   "cell_type": "code",
   "execution_count": 6,
   "id": "690367be",
   "metadata": {},
   "outputs": [
    {
     "data": {
      "text/plain": [
       "3"
      ]
     },
     "execution_count": 6,
     "metadata": {},
     "output_type": "execute_result"
    }
   ],
   "source": [
    "input2 = [[\"1\",\"1\",\"0\",\"0\",\"0\"],[\"1\",\"1\",\"0\",\"0\",\"0\"],[\"0\",\"0\",\"1\",\"0\",\"0\"],[\"0\",\"0\",\"0\",\"1\",\"1\"]]\n",
    "sol2 = Solution()\n",
    "sol2.numIslands(input2)"
   ]
  },
  {
   "cell_type": "code",
   "execution_count": null,
   "id": "af3aec14",
   "metadata": {},
   "outputs": [],
   "source": []
  }
 ],
 "metadata": {
  "kernelspec": {
   "display_name": "Python 3 (ipykernel)",
   "language": "python",
   "name": "python3"
  },
  "language_info": {
   "codemirror_mode": {
    "name": "ipython",
    "version": 3
   },
   "file_extension": ".py",
   "mimetype": "text/x-python",
   "name": "python",
   "nbconvert_exporter": "python",
   "pygments_lexer": "ipython3",
   "version": "3.11.5"
  }
 },
 "nbformat": 4,
 "nbformat_minor": 5
}
