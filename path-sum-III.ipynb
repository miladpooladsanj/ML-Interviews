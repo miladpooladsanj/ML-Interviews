{
 "cells": [
  {
   "cell_type": "markdown",
   "id": "499af178",
   "metadata": {},
   "source": [
    "# Problem Description\n",
    "https://leetcode.com/problems/path-sum-iii/description/?envType=study-plan-v2&envId=leetcode-75"
   ]
  },
  {
   "cell_type": "markdown",
   "id": "dc87d3e4",
   "metadata": {},
   "source": [
    "# Solution\n",
    "The solution here uses DFS. An alternative solution uses prefix sum and preorder traversal of a binary tree. "
   ]
  },
  {
   "cell_type": "code",
   "execution_count": 1,
   "id": "494a228f",
   "metadata": {},
   "outputs": [],
   "source": [
    "import collections\n",
    "# Definition for a binary tree node.\n",
    "class TreeNode:\n",
    "     def __init__(self, val=0, left=None, right=None):\n",
    "         self.val = val\n",
    "         self.left = left\n",
    "         self.right = right\n",
    "class Solution:\n",
    "    def pathSum(self, root, targetSum: int) -> int:\n",
    "        def dfs(node, rem):\n",
    "            nonlocal output\n",
    "            if node is not None:\n",
    "                if node.val == rem:\n",
    "                    output += 1\n",
    "                dfs(node.left, rem - node.val)\n",
    "                dfs(node.right, rem - node.val)\n",
    "            return\n",
    "        \n",
    "        output = 0\n",
    "        queue = collections.deque([root])\n",
    "        while queue:\n",
    "            curr_node = queue.popleft()\n",
    "            if curr_node is not None:\n",
    "                dfs(curr_node, targetSum)\n",
    "                queue.append(curr_node.left)\n",
    "                queue.append(curr_node.right)\n",
    "        \n",
    "        return output"
   ]
  }
 ],
 "metadata": {
  "kernelspec": {
   "display_name": "Python 3 (ipykernel)",
   "language": "python",
   "name": "python3"
  },
  "language_info": {
   "codemirror_mode": {
    "name": "ipython",
    "version": 3
   },
   "file_extension": ".py",
   "mimetype": "text/x-python",
   "name": "python",
   "nbconvert_exporter": "python",
   "pygments_lexer": "ipython3",
   "version": "3.11.5"
  }
 },
 "nbformat": 4,
 "nbformat_minor": 5
}
