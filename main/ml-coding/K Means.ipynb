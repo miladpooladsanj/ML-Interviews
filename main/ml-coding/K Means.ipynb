{
 "cells": [
  {
   "cell_type": "markdown",
   "id": "abc8c3fd",
   "metadata": {},
   "source": [
    "# 3. Unsupervised Learning\n",
    "In unsupervised learning, we are given a training data set $\\{x^{(1)}, \\ldots, x^{(n)}\\}$ and our task is to group the data into a few cohesive groups or *clusters*. Here, $x^{(i)} \\in \\mathbb{R}^d$ for $i = 1, \\ldots, n$; but no labels $y^{(i)}$ are given. \n",
    "\n",
    "## 3.1 K-Means Algorithm\n",
    "The k-means clustering algorithm is a popular unsupervised learning algorithm, which is commonly used in various fields such as image segmentation, market segmentation, and customer profiling. In this algorithm, we first randomly initialize $k$ cluster centroids. We then assign each data point in our training samples to its nearest cluster centroid. Finally, each cluster centroid is updated by taking the average of the data points assigned to it, and this process keeps repeated until convergence. More formally:\n",
    "\n",
    "1. Initialize cluster centroids $\\mu_1, \\ldots, \\mu_k \\in \\mathbb{R}^d$ randomly.\n",
    "1. Repeat until convergence:\n",
    "\n",
    "    1. for every $i$, set \n",
    "    $$c^{(i)} := \\text{argmin}_{j} \\|x^{(i)} - \\mu_j \\|$$\n",
    "    2. for every $j$, set \n",
    "    $$\\mu_j = \\frac{\\sum_{i = 1}^{n} \\mathbb{1}_{\\{c^{(i)} = j\\}}x^{(i)}}{\\sum_{i = 1}^{n} \\mathbb{1}_{\\{c^{(i)} = j\\}}}.$$\n",
    "    \n",
    "Below you can find an implementation of this algorithm.   "
   ]
  },
  {
   "cell_type": "code",
   "execution_count": 10,
   "id": "c22ff6a2",
   "metadata": {},
   "outputs": [],
   "source": [
    "import numpy as np\n",
    "import collections"
   ]
  },
  {
   "cell_type": "code",
   "execution_count": 19,
   "id": "871bec5b",
   "metadata": {},
   "outputs": [],
   "source": [
    "class KMeans:\n",
    "    def __init__(self, num_clusters = 3, iterations = 100):\n",
    "        self.num_clusters = num_clusters\n",
    "        self.iterations = iterations\n",
    "    \n",
    "    def fit(self, X):\n",
    "        n_samples, d_features = X.shape\n",
    "        self.centroids = X[np.random.choice(n_samples, self.num_clusters, replace=False)]\n",
    "        for i in range(self.iterations):\n",
    "            clusters = collections.defaultdict(list)\n",
    "            for j in range(n_samples):\n",
    "                distances = np.linalg.norm(X[j] - self.centroids, axis = 1)\n",
    "                clusters[np.argmin(distances)].append(X[j])\n",
    "            for k in clusters:\n",
    "                cluster_avg = np.mean(clusters[k], axis=0)\n",
    "                self.centroids[k] = cluster_avg\n",
    "                \n",
    "        return\n",
    "    \n",
    "        \n",
    "    def predict(self, X):\n",
    "        clusters = []\n",
    "        for j in range(len(X)):\n",
    "            distances = np.linalg.norm(X[j] - self.centroids, axis = 1)\n",
    "            clusters.append(np.argmin(distances))\n",
    "        return clusters"
   ]
  },
  {
   "cell_type": "code",
   "execution_count": 20,
   "id": "0f73aa47",
   "metadata": {},
   "outputs": [
    {
     "name": "stdout",
     "output_type": "stream",
     "text": [
      "[1, 1, 1, 1, 1, 0, 0, 0, 0, 0]\n",
      "[[-4.71687224 -4.56277632]\n",
      " [ 5.73413132  5.9735165 ]]\n"
     ]
    }
   ],
   "source": [
    "x1 = np.random.randn(5,2) + 5\n",
    "x2 = np.random.randn(5,2) - 5\n",
    "X = np.concatenate([x1,x2], axis=0)\n",
    "\n",
    "# Initialize the KMeans object with k=3\n",
    "kmeans = KMeans(num_clusters=2)\n",
    "\n",
    "# Fit the k-means model to the dataset\n",
    "kmeans.fit(X)\n",
    "\n",
    "cluster_assignments = kmeans.predict(X)\n",
    "\n",
    "# Print the cluster assignments\n",
    "print(cluster_assignments)\n",
    "\n",
    "# Print the learned centroids\n",
    "print(kmeans.centroids)"
   ]
  },
  {
   "cell_type": "code",
   "execution_count": null,
   "id": "dfab738a",
   "metadata": {},
   "outputs": [],
   "source": []
  }
 ],
 "metadata": {
  "kernelspec": {
   "display_name": "Python 3 (ipykernel)",
   "language": "python",
   "name": "python3"
  },
  "language_info": {
   "codemirror_mode": {
    "name": "ipython",
    "version": 3
   },
   "file_extension": ".py",
   "mimetype": "text/x-python",
   "name": "python",
   "nbconvert_exporter": "python",
   "pygments_lexer": "ipython3",
   "version": "3.11.5"
  }
 },
 "nbformat": 4,
 "nbformat_minor": 5
}
