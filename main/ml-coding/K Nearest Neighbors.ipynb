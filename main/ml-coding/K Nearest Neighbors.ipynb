{
 "cells": [
  {
   "cell_type": "markdown",
   "id": "e246e316",
   "metadata": {},
   "source": [
    "# 4. K-Nearest Neighbors Algorithm\n",
    "the k-nearest neighbors algorithm is a non-parametric classification algorithm. That is, it does not make any assumption about the distribution of the data nor the function that maps the input features to output. Rather, it assigns a class label to a new data point based on the class lables of its k-nearest points in the training data set. More formally, let $(x^{(1)}, y^{(1)}), (x^{(2)}, y^{(2)}), \\ldots, (x^{(n)}, y^{(n)})$ be a sequence of training samples, where $x^{(i)} \\in \\mathbb{R}^d$, and $y^{(i)} \\in \\{0, 1\\}$ for $i = 1, \\ldots, n$. Given an positive integer $k$ and a new data point $x \\in \\mathbb{R}^d$, the algorithm works as follows:\n",
    "\n",
    "1. compute $\\|x - x^{(i)}\\|$ for $i = 1, \\ldots, n$.\n",
    "1. let $i_1, \\ldots, i_k \\in \\{1, \\ldots, n\\}$ be the indices of the $k$ nearest points to $x$.\n",
    "1. among $y^{(i_1)}, \\ldots, y^{(i_k)}$, choose the class label that apears more frequently, and assign it to $x$.\n",
    "\n",
    "Below you can find an implementation of this algorithm."
   ]
  },
  {
   "cell_type": "code",
   "execution_count": 10,
   "id": "385255ed",
   "metadata": {},
   "outputs": [],
   "source": [
    "import numpy as np\n",
    "from collections import Counter"
   ]
  },
  {
   "cell_type": "code",
   "execution_count": 11,
   "id": "cec806e8",
   "metadata": {},
   "outputs": [],
   "source": [
    "class KNN:\n",
    "    def __init__(self, k = 2):\n",
    "        self.k = k\n",
    "    \n",
    "    def fit(self, X, y):\n",
    "        self.X = X\n",
    "        self.y = y\n",
    "    \n",
    "    def predict(self, X_test):\n",
    "        y_test = []\n",
    "        for x in X_test:\n",
    "            distances = np.linalg.norm(self.X - x, axis = 1)\n",
    "            nearest_indices = np.argsort(distances)[:self.k]\n",
    "            nearest_labels = self.y[nearest_indices]\n",
    "        \n",
    "            pred_label = Counter(nearest_labels).most_common(1)[0][0]\n",
    "            y_test.append(pred_label)\n",
    "        return y_test"
   ]
  },
  {
   "cell_type": "code",
   "execution_count": 12,
   "id": "75e563d5",
   "metadata": {},
   "outputs": [
    {
     "name": "stdout",
     "output_type": "stream",
     "text": [
      "Accuracy: 1.0\n"
     ]
    }
   ],
   "source": [
    "from sklearn.datasets import load_iris\n",
    "from sklearn.model_selection import train_test_split\n",
    "from sklearn.metrics import accuracy_score\n",
    "\n",
    "# Load the iris dataset\n",
    "iris = load_iris()\n",
    "\n",
    "# Split the data into training and test sets\n",
    "X_train, X_test, y_train, y_test = train_test_split(iris.data, iris.target, test_size=0.2, random_state=42)\n",
    "\n",
    "# Create a KNN classifier with k=5 and euclidean distance\n",
    "knn = KNN(5)\n",
    "\n",
    "# Train the classifier on the training data\n",
    "knn.fit(X_train, y_train)\n",
    "\n",
    "# Make predictions on the test data\n",
    "y_pred = knn.predict(X_test)\n",
    "\n",
    "# Compute the accuracy of the classifier\n",
    "accuracy = accuracy_score(y_test, y_pred)\n",
    "print(f\"Accuracy: {accuracy}\")"
   ]
  },
  {
   "cell_type": "code",
   "execution_count": null,
   "id": "bf7f7db3",
   "metadata": {},
   "outputs": [],
   "source": []
  }
 ],
 "metadata": {
  "kernelspec": {
   "display_name": "Python 3 (ipykernel)",
   "language": "python",
   "name": "python3"
  },
  "language_info": {
   "codemirror_mode": {
    "name": "ipython",
    "version": 3
   },
   "file_extension": ".py",
   "mimetype": "text/x-python",
   "name": "python",
   "nbconvert_exporter": "python",
   "pygments_lexer": "ipython3",
   "version": "3.11.5"
  }
 },
 "nbformat": 4,
 "nbformat_minor": 5
}
