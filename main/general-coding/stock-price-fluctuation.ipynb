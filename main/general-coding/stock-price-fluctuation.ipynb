{
 "cells": [
  {
   "cell_type": "markdown",
   "id": "abd027c6",
   "metadata": {},
   "source": [
    "# Problem Description\n",
    "https://leetcode.com/problems/stock-price-fluctuation/"
   ]
  },
  {
   "cell_type": "markdown",
   "id": "3c5f9c6f",
   "metadata": {},
   "source": [
    "# Solution"
   ]
  },
  {
   "cell_type": "code",
   "execution_count": 2,
   "id": "3bbb4465",
   "metadata": {},
   "outputs": [],
   "source": [
    "from sortedcontainers import SortedDict"
   ]
  },
  {
   "cell_type": "code",
   "execution_count": 3,
   "id": "0b54247d",
   "metadata": {},
   "outputs": [],
   "source": [
    "class StockPrice:\n",
    "    def __init__(self):\n",
    "        self.price_dict = {}\n",
    "        self.sorted_price = SortedDict()\n",
    "        self.latest_time = 0\n",
    "\n",
    "    def update(self, timestamp: int, price: int) -> None:\n",
    "        self.latest_time = max(self.latest_time, timestamp)\n",
    "        if timestamp in self.price_dict:\n",
    "            prev_price = self.price_dict[timestamp]\n",
    "            self.sorted_price[prev_price] -= 1\n",
    "\n",
    "            if not self.sorted_price[prev_price]:\n",
    "                del self.sorted_price[prev_price]\n",
    "\n",
    "        self.price_dict[timestamp] = price\n",
    "        if price in self.sorted_price:\n",
    "            self.sorted_price[price] += 1\n",
    "        else:\n",
    "            self.sorted_price[price] = 1\n",
    "\n",
    "        return\n",
    "\n",
    "    def current(self) -> int:\n",
    "        return self.price_dict[self.latest_time]\n",
    "\n",
    "    def maximum(self) -> int:\n",
    "        if self.sorted_price:\n",
    "            return self.sorted_price.peekitem(-1)[0]\n",
    "        else:\n",
    "            return -1\n",
    "\n",
    "    def minimum(self) -> int:\n",
    "        if self.sorted_price:\n",
    "            return self.sorted_price.peekitem(0)[0]\n",
    "        else:\n",
    "            return -1"
   ]
  },
  {
   "cell_type": "code",
   "execution_count": 7,
   "id": "a6ca3500",
   "metadata": {},
   "outputs": [
    {
     "name": "stdout",
     "output_type": "stream",
     "text": [
      "[None, None, 5, 10, None, 5, None, 2]\n"
     ]
    }
   ],
   "source": [
    "# Input\n",
    "# [\"StockPrice\", \"update\", \"update\", \"current\", \"maximum\", \"update\", \"maximum\", \"update\", \"minimum\"]\n",
    "# [[], [1, 10], [2, 5], [], [], [1, 3], [], [4, 2], []]\n",
    "# The StockPrice object will be instantiated and called as such:\n",
    "obj = StockPrice()\n",
    "param_1 = obj.update(1, 10)\n",
    "param_2 = obj.update(2, 5)\n",
    "param_3 = obj.current()\n",
    "param_4 = obj.maximum()\n",
    "param_5 = obj.update(1, 3)\n",
    "param_6 = obj.maximum()\n",
    "param_7 = obj.update(4, 2)\n",
    "param_8 = obj.minimum()\n",
    "output = []\n",
    "for i in range(1, 9):\n",
    "    output.append(locals()[f\"param_{i}\"])\n",
    "print(output)"
   ]
  },
  {
   "cell_type": "code",
   "execution_count": null,
   "id": "a8c33196",
   "metadata": {},
   "outputs": [],
   "source": []
  }
 ],
 "metadata": {
  "kernelspec": {
   "display_name": "Python 3 (ipykernel)",
   "language": "python",
   "name": "python3"
  },
  "language_info": {
   "codemirror_mode": {
    "name": "ipython",
    "version": 3
   },
   "file_extension": ".py",
   "mimetype": "text/x-python",
   "name": "python",
   "nbconvert_exporter": "python",
   "pygments_lexer": "ipython3",
   "version": "3.11.5"
  }
 },
 "nbformat": 4,
 "nbformat_minor": 5
}
